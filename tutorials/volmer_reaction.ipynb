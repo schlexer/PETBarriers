{
 "cells": [
  {
   "cell_type": "code",
   "execution_count": 2,
   "metadata": {
    "collapsed": true
   },
   "outputs": [],
   "source": [
    "import os\n",
    "import sys\n",
    "\n",
    "cwd = os.getcwd()+'/'\n",
    "sys.path.insert(0, cwd+'PETBarriers/')\n",
    "\n",
    "from petbarriers.morse import *\n",
    "\n",
    "datapath = cwd + 'PETBarriers/data/'\n",
    "\n"
   ]
  },
  {
   "cell_type": "code",
   "execution_count": 3,
   "metadata": {},
   "outputs": [],
   "source": [
    "# We computed a series of DFT single points:\n",
    "\n",
    "# (1) Pt ---- H at several d(Pt-H)\n",
    "# We read in the data and check the normalized curve with plot=True\n",
    "# Note that the proton initial state is \"left\", i.e. the hydrogen is ABOVE the Pt surface.\n",
    "pes1 = PES(datapath + 'Pt.tsv', donor='left', dHeq=1.56, plot=True)\n",
    "\n",
    "# (2) H ---- OH at several d(H-OH)\n",
    "# Note that the proton initial state is \"right\", that is the hydrogen is BELOW the water.\n",
    "pes2 = PES(datapath + 'H2O.tsv', donor='right', dHeq=2.6, plot=True)\n",
    "\n",
    "# We check the Morse fits of both potential energy curves\n",
    "pes1.plot_morse()\n",
    "pes2.plot_morse()\n",
    "\n",
    "# We have now two potential energy curve (PES) objects"
   ]
  },
  {
   "cell_type": "code",
   "execution_count": 8,
   "metadata": {},
   "outputs": [
    {
     "name": "stdout",
     "output_type": "stream",
     "text": [
      "Diabatic forward barrier  0.40 eV\nDiabatic backward barrier  3.62 eV\nAdiabatic forward barrier  0.23 eV\nAdiabatic backward barrier  3.45 eV\n"
     ]
    }
   ],
   "source": [
    "# In order to transfer teh hydrogen from one state (one PES object) to the other, \n",
    "# we instantiate the Energy object, giving it first the PES, we want to see on the left,\n",
    "# and then the one we want to see on the right\n",
    "e = Energy(pes1, pes2)\n",
    "\n",
    "# We get the diabatic interception like this:\n",
    "Ea_dia = e.interception(plot=True)      # returns distance from first state and forward Ea\n",
    "print('Diabatic forward barrier %5.2f eV' %e.Ea_left)\n",
    "print('Diabatic backward barrier %5.2f eV' %e.Ea_right)\n",
    "\n",
    "# We get the adiabatic barrier estimate like this:\n",
    "e.interception(adiabatic=True, plot=True)\n",
    "print('Adiabatic forward barrier %5.2f eV' %e.Ea_ad_left)\n",
    "print('Adiabatic backward barrier %5.2f eV' %e.Ea_ad_right)\n",
    "\n",
    "\n"
   ]
  },
  {
   "cell_type": "code",
   "execution_count": null,
   "metadata": {},
   "outputs": [],
   "source": []
  }
 ],
 "metadata": {
  "kernelspec": {
   "display_name": "Python 2",
   "language": "python",
   "name": "python2"
  },
  "language_info": {
   "codemirror_mode": {
    "name": "ipython",
    "version": 2
   },
   "file_extension": ".py",
   "mimetype": "text/x-python",
   "name": "python",
   "nbconvert_exporter": "python",
   "pygments_lexer": "ipython2",
   "version": "2.7.6"
  }
 },
 "nbformat": 4,
 "nbformat_minor": 0
}
